{
 "cells": [
  {
   "cell_type": "code",
   "execution_count": 1,
   "metadata": {},
   "outputs": [],
   "source": [
    "import math\n",
    "import random"
   ]
  },
  {
   "cell_type": "code",
   "execution_count": 2,
   "metadata": {},
   "outputs": [],
   "source": [
    "class Enigma():\n",
    "    def __init__(self):\n",
    "        self.rotator_one = None\n",
    "        self.rotator_two = None\n",
    "        self.rotator_three = None\n",
    "        self.key = []\n",
    "        self.ind = None\n",
    "        self.size = random.randint(1,94//3)\n",
    "    \n",
    "    def set_machine(self, rotator_one, rotator_two, rotator_three, mixed = False):\n",
    "        self.build_key()\n",
    "        if mixed:\n",
    "            self.set_rot_one(random.randint(1,25))\n",
    "            self.set_rot_two(random.randint(0,25))\n",
    "            self.set_rot_three(random.randint(0,25))\n",
    "        else:\n",
    "            self.set_rot_one(abs(rotator_one))\n",
    "            self.set_rot_two(abs(rotator_two))\n",
    "            self.set_rot_three(abs(rotator_three))\n",
    "        self.build_index(self.key)\n",
    "    \n",
    "    def settings(self, p = False):\n",
    "        if p:\n",
    "            self.print_settings()        \n",
    "        return [self.rotator_one, self.rotator_two, self.rotator_three, self.size, self.key]\n",
    "    \n",
    "    def print_settings(self):\n",
    "        print(\"\\n*** SETTINGS FOR MACHINE ***\")\n",
    "        print(f'R1: {self.rotator_one}\\nR2: {self.rotator_two}\\nR3: {self.rotator_three}\\n')\n",
    "        print(f'Key Size: {self.size}')\n",
    "        \n",
    "    def build_key(self, key = None):\n",
    "        if key == None:\n",
    "            self.key = [i for i in range(0,self.size)]\n",
    "        else:\n",
    "            self.key = key\n",
    "            \n",
    "    def set_rot_one(self, start):\n",
    "        self.rotator_one = start\n",
    "    \n",
    "    def set_rot_two(self, start):\n",
    "        self.rotator_two = start\n",
    "    \n",
    "    def set_rot_three(self, start):\n",
    "        self.rotator_three = start\n",
    "    \n",
    "    def encrypt(self, text):\n",
    "        if self.rotator_one == None:\n",
    "            return \"Machine not set!\"\n",
    "        print('Encrypting...')\n",
    "        # rot 1\n",
    "        text = self.rotate_values(text, self.rotator_one)\n",
    "        # rot 2\n",
    "        text = self.rotate_values(text, self.rotator_two)\n",
    "        # rot 3\n",
    "        text = self.rotate_values(text, self.rotator_three)\n",
    "        return ''.join(text)\n",
    "    \n",
    "    def decrypt(self, text):\n",
    "        if self.rotator_one == None:\n",
    "            return \"Machine not set!\"\n",
    "        print('Decrypting...')\n",
    "        # rot 1\n",
    "        text = self.rotate_values(text, self.rotator_one, False)\n",
    "        # rot 2\n",
    "        text = self.rotate_values(text, self.rotator_two,False)\n",
    "        # rot 3\n",
    "        text = self.rotate_values(text, self.rotator_three,False)\n",
    "        return ''.join(text)\n",
    "    \n",
    "    def switch_ascii_value(self,text, flag = 'o'):        \n",
    "        text_string = []\n",
    "        if flag == 'o':        \n",
    "            for letter in text:\n",
    "                text_string.extend([ord(letter)])\n",
    "        elif flag == 'c':\n",
    "            for letter in text:\n",
    "                text_string.extend([chr(letter)])        \n",
    "        return text_string\n",
    "    \n",
    "    def rotate_values(self,text, rotator, forward = True):\n",
    "        text_o = self.switch_ascii_value(text, 'o')\n",
    "        if forward:\n",
    "            text_n = self.add_vals(text_o, rotator)\n",
    "        else:\n",
    "            text_n = self.deduct_vals(text_o, rotator)\n",
    "        text = self.switch_ascii_value(text_n, 'c')\n",
    "        return text\n",
    "        \n",
    "    def add_vals(self, text, val):\n",
    "        for n, j in enumerate(text):\n",
    "            i = self.ind.index(j)\n",
    "            if i+val>=len(self.ind):\n",
    "                i = (i+val)-len(self.ind)\n",
    "            else:\n",
    "                i= i +val\n",
    "            v = self.ind[i]\n",
    "            text[n] = v\n",
    "        return text\n",
    "    \n",
    "    def deduct_vals(self, text, val):\n",
    "        for n, j in enumerate(text):\n",
    "            i = self.ind.index(j)\n",
    "            if i-val<0:\n",
    "                i = (i-val)+len(self.ind)\n",
    "            else:\n",
    "                i= i -val\n",
    "            v = self.ind[i]\n",
    "            text[n] = v\n",
    "        return text\n",
    "    \n",
    "    def build_index(self, key = None):        \n",
    "        ''' Override order of ASCII sets'''\n",
    "        self.ind=[]\n",
    "        if key == None:\n",
    "            # Create random key\n",
    "            self.key = [i for i in range(0,self.size)]\n",
    "            random.shuffle(self.key)   \n",
    "        else:\n",
    "            self.key = key\n",
    "            self.size = len(key)\n",
    "        chars = []\n",
    "        for i in range(0,self.size-1):\n",
    "            j = 32+(i*(94//self.size))\n",
    "            k = 32+((i+1)*(94//self.size))\n",
    "            chars.extend([[j,k]])\n",
    "        chars.extend([[(94//self.size)*(self.size-1)+32, 127]])\n",
    "        for i in range(self.size):\n",
    "            for i in range(chars[self.key[i]][0],chars[self.key[i]][1]):\n",
    "                self.ind.extend([i])"
   ]
  },
  {
   "cell_type": "code",
   "execution_count": 3,
   "metadata": {},
   "outputs": [
    {
     "name": "stdout",
     "output_type": "stream",
     "text": [
      "Encrypting...\n",
      "_% ;d;)!*0%+*;0$|0;d;3|/;}+.! Z\n",
      "Decrypting...\n",
      "Did I mention that I was bored?\n",
      "\n",
      "*** SETTINGS FOR MACHINE ***\n",
      "R1: 4\n",
      "R2: 22\n",
      "R3: 1\n",
      "\n",
      "Key Size: 15\n"
     ]
    },
    {
     "data": {
      "text/plain": [
       "[4, 22, 1, 15, [0, 1, 2, 3, 4, 5, 6, 7, 8, 9, 10, 11, 12, 13, 14]]"
      ]
     },
     "execution_count": 3,
     "metadata": {},
     "output_type": "execute_result"
    }
   ],
   "source": [
    "e = Enigma()\n",
    "e.set_machine(7,13,5,True) ## True to ignore set values and set with random rotators\n",
    "# e.build_index([2,0,3,4,1])\n",
    "\n",
    "# Randomize indexing of keys\n",
    "# e.build_index()\n",
    "\n",
    "message  = \"Did I mention that I was bored?\"\n",
    "message = e.encrypt(message)\n",
    "print(message)\n",
    "\n",
    "message = e.decrypt(message)\n",
    "print(message)\n",
    "\n",
    "e.settings(True)"
   ]
  },
  {
   "cell_type": "code",
   "execution_count": 4,
   "metadata": {},
   "outputs": [],
   "source": [
    "message_1 = \"Oh my god, it is so crap in here!! Honestly, just shoot me now!!\"\n",
    "message_2 = \"Does anyone have any good movie recommendations? Bored is an understatement...\"\n",
    "message_3 = \"Ok, so now I am really running out of messages to type...\"\n",
    "message_4 = \"If this shit doesn't work I have wasted like, what 3-4 hours today!!\"\n",
    "message_5 = \"Fun fact!! I am like 99% sure this is the easiest machine to crack!!\""
   ]
  },
  {
   "cell_type": "code",
   "execution_count": 5,
   "metadata": {},
   "outputs": [],
   "source": [
    "message_list = [message_1, message_2, message_3, message_4, message_5]"
   ]
  },
  {
   "cell_type": "code",
   "execution_count": 9,
   "metadata": {},
   "outputs": [],
   "source": [
    "def code_message(message):\n",
    "    em = Enigma()\n",
    "    em.set_machine(7,13,5, False) #Randomise\n",
    "    em.build_index()\n",
    "    me = em.encrypt(message)\n",
    "    return [em.settings(), me]\n",
    "def decode_message(settings, message):\n",
    "    d = Enigma()\n",
    "    d.set_machine(settings[0],settings[1],settings[2])\n",
    "    d.build_key(settings[4])\n",
    "    d.build_index(settings[4])\n",
    "    d_settings = d.settings()\n",
    "    message_d = d.decrypt(message)\n",
    "    return message_d"
   ]
  },
  {
   "cell_type": "code",
   "execution_count": 10,
   "metadata": {},
   "outputs": [
    {
     "name": "stdout",
     "output_type": "stream",
     "text": [
      "Encrypting...\n",
      "Encrypting...\n",
      "Encrypting...\n",
      "Encrypting...\n",
      "Encrypting...\n",
      "[[[7, 13, 5, 18, [9, 5, 17, 11, 0, 6, 4, 2, 1, 3, 14, 15, 13, 16, 7, 12, 10, 8]], '\"^/T8/]VKc/_Q/_P/PV/JOHM/_U/^LOL00/WVULPQS8c/`4PQ/P^VVQ/TL/UV600'], [[7, 13, 5, 15, [2, 5, 8, 1, 11, 4, 3, 10, 14, 7, 9, 13, 0, 6, 12]], \"Q.x>?o-!.-x?'orx?-!?z..w?b.r(x?1xv.bb-xwop(.->:?=.1xw?(>?o-?q-wx1>popxbx-peee\"], [[7, 13, 5, 5, [2, 1, 4, 0, 3]], \"h%E]-)]()1]>]2'],62&&W],/((#8])/.])7]'6--286-].)].W*6GGG\"], [[7, 13, 5, 19, [12, 3, 9, 11, 0, 4, 17, 13, 10, 8, 14, 16, 5, 7, 1, 2, 18, 15, 6]], '&7Y.^_-Y-^_.Y5Q6-P|.YEQ,9Y&Y^nD6YEn-.65Y:_96UYE^n.Y4VqY^Q/,-Y.Q5nGZZ'], [[7, 13, 5, 9, [7, 1, 4, 6, 2, 3, 0, 5, 8]], 's/_uM \".vvu:u ^u]P\\\\$uRRzu-/,$u.OP-uP-u.O$u$ -P$-.u^ \"OP_$u.`u\", \"\\\\vv']]\n"
     ]
    }
   ],
   "source": [
    "encoded_list = []\n",
    "for message in message_list:\n",
    "    c = code_message(message)\n",
    "    encoded_list.extend([c])\n",
    "print(encoded_list)"
   ]
  },
  {
   "cell_type": "code",
   "execution_count": 11,
   "metadata": {},
   "outputs": [
    {
     "name": "stdout",
     "output_type": "stream",
     "text": [
      "Decrypting...\n",
      "Decrypting...\n",
      "Decrypting...\n",
      "Decrypting...\n",
      "Decrypting...\n",
      "['Oh my god, it is so crap in here!! Honestly, just shoot me now!!', 'Does anyone have ny good movie recommnedations? Bored is an understatement...', 'Ok, so now I am really runnig out of messages to type...', \"If this shit doesn't work I have wasted like, what 3-4 hours today!!\", 'Fun fact!! I am like 99% sure this is the easiest machine to crack!!']\n"
     ]
    }
   ],
   "source": [
    "decoded_list =[]\n",
    "for message in encoded_list:\n",
    "    decoded_list.extend([decode_message(message[0], message[1])])\n",
    "\n",
    "print(decoded_list)"
   ]
  },
  {
   "cell_type": "code",
   "execution_count": null,
   "metadata": {},
   "outputs": [],
   "source": []
  }
 ],
 "metadata": {
  "kernelspec": {
   "display_name": "Python 3",
   "language": "python",
   "name": "python3"
  },
  "language_info": {
   "codemirror_mode": {
    "name": "ipython",
    "version": 3
   },
   "file_extension": ".py",
   "mimetype": "text/x-python",
   "name": "python",
   "nbconvert_exporter": "python",
   "pygments_lexer": "ipython3",
   "version": "3.8.3"
  }
 },
 "nbformat": 4,
 "nbformat_minor": 4
}
